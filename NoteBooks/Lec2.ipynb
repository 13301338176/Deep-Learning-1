{
 "cells": [
  {
   "cell_type": "markdown",
   "metadata": {},
   "source": [
    "# TensorFlow Ops!\n",
    "\n",
    "Adapted from [CS 20: Tensorflow for Deep Learning Research](http://web.stanford.edu/class/cs20si/syllabus.html)\n",
    "\n",
    "CS 20: TensorFlow for Deep Learning Research  \n",
    "Lecture 2  \n",
    "1/17/2017"
   ]
  },
  {
   "cell_type": "markdown",
   "metadata": {},
   "source": [
    "## Agenda\n",
    "\n",
    "Basic operations  \n",
    "Tensor types  \n",
    "Importing data  \n",
    "Lazy loading  \n",
    "Fun with TensorBoard!!!  "
   ]
  },
  {
   "cell_type": "markdown",
   "metadata": {},
   "source": [
    "## Your first TensorFlow program"
   ]
  },
  {
   "cell_type": "code",
   "execution_count": 1,
   "metadata": {},
   "outputs": [],
   "source": [
    "import os\n",
    "os.environ['TF_CPP_MIN_LOG_LEVEL']='2' # No more warning\n",
    "import tensorflow as tf"
   ]
  },
  {
   "cell_type": "code",
   "execution_count": 2,
   "metadata": {},
   "outputs": [
    {
     "name": "stdout",
     "output_type": "stream",
     "text": [
      "5\n"
     ]
    }
   ],
   "source": [
    "a = tf.constant(2)\n",
    "b = tf.constant(3)\n",
    "x = tf.add(a, b)\n",
    "with tf.Session() as sess:\n",
    "     print(sess.run(x))"
   ]
  },
  {
   "cell_type": "markdown",
   "metadata": {},
   "source": [
    "Warning?\n",
    "The TensorFlow library wasn't compiled to use SSE4.1 instructions, but these are available on your machine and could speed up CPU computations."
   ]
  },
  {
   "cell_type": "code",
   "execution_count": 3,
   "metadata": {},
   "outputs": [
    {
     "name": "stdout",
     "output_type": "stream",
     "text": [
      "5\n"
     ]
    }
   ],
   "source": [
    "a = tf.constant(2)\n",
    "b = tf.constant(3)\n",
    "x = tf.add(a, b)\n",
    "with tf.Session() as sess:\n",
    "     print(sess.run(x))"
   ]
  },
  {
   "cell_type": "markdown",
   "metadata": {},
   "source": [
    "## Visualize it with TensorBoard"
   ]
  },
  {
   "cell_type": "code",
   "execution_count": 4,
   "metadata": {},
   "outputs": [
    {
     "name": "stdout",
     "output_type": "stream",
     "text": [
      "5\n"
     ]
    }
   ],
   "source": [
    "a = tf.constant(2)\n",
    "b = tf.constant(3)\n",
    "x = tf.add(a, b)\n",
    "# Create the summary writer after graph definition and before running your session \n",
    "# add the following line to use TensorBoard.\n",
    "writer = tf.summary.FileWriter('./graphs', tf.get_default_graph())\n",
    "with tf.Session() as sess:\n",
    "#     writer = tf.summary.FileWriter(\"./graphs\", sess.graph) \n",
    "    print(sess.run(x))\n",
    "writer.close() # close the writer when you’re done using it"
   ]
  },
  {
   "cell_type": "markdown",
   "metadata": {},
   "source": [
    "## Run it"
   ]
  },
  {
   "cell_type": "markdown",
   "metadata": {},
   "source": [
    "Go to terminal, run:  \n",
    "$ python [yourprogram].py   \n",
    "\n",
    "$ tensorboard --logdir=\"./graphs\" --port 6006  \n",
    "Then open your browser and go to: http://localhost:6006/\n",
    "\n",
    "**Learn to use TensorBoard well and often.\n",
    "It will help a lot when you build complicated models.**\n",
    "\n",
    "**Question: How to change Const, Const_1 to the names we give the variables?**"
   ]
  },
  {
   "cell_type": "markdown",
   "metadata": {},
   "source": [
    "##  Explicitly name them"
   ]
  },
  {
   "cell_type": "code",
   "execution_count": 5,
   "metadata": {},
   "outputs": [
    {
     "name": "stdout",
     "output_type": "stream",
     "text": [
      "5\n"
     ]
    }
   ],
   "source": [
    "a = tf.constant(2, name=\"a\")\n",
    "b = tf.constant(3, name=\"b\")\n",
    "x = tf.add(a, b, name=\"add\")\n",
    "writer = tf.summary.FileWriter('./graphs', tf.get_default_graph())\n",
    "with tf.Session() as sess:\n",
    "    print(sess.run(x))\n",
    "writer.close() "
   ]
  },
  {
   "cell_type": "markdown",
   "metadata": {},
   "source": [
    "**TensorBoard can do much more than just visualizing your graphs. Learn to use TensorBoard well and often!**"
   ]
  },
  {
   "cell_type": "markdown",
   "metadata": {},
   "source": [
    "##  Constants, Sequences, Variables, Ops"
   ]
  },
  {
   "cell_type": "markdown",
   "metadata": {},
   "source": [
    "## Constants\n",
    "\n",
    "**tf.constant(value, dtype=None, shape=None, name='Const', verify_shape=False)**\n",
    "\n",
    "**Broadcasting similar to NumPy**"
   ]
  },
  {
   "cell_type": "code",
   "execution_count": 6,
   "metadata": {},
   "outputs": [
    {
     "name": "stdout",
     "output_type": "stream",
     "text": [
      "x equals to: \n",
      " [[2 5]\n",
      " [4 7]]\n",
      "y equals to: \n",
      " [[ 0  4]\n",
      " [ 4 12]]\n"
     ]
    }
   ],
   "source": [
    "a = tf.constant([2, 4], name=\"a\")\n",
    "b = tf.constant([[0, 1], [2, 3]], name=\"b\")\n",
    "x = tf.add(a, b, name=\"add\")\n",
    "y = tf.multiply(a, b, name=\"mul\")\n",
    "with tf.Session() as sess:\n",
    "     x, y = sess.run([x, y])\n",
    "     print(\"x equals to: \\n\", x)\n",
    "     print(\"y equals to: \\n\", y)"
   ]
  },
  {
   "cell_type": "markdown",
   "metadata": {},
   "source": [
    "### Tensors filled with a specific value"
   ]
  },
  {
   "cell_type": "markdown",
   "metadata": {},
   "source": [
    "**tf.zeros(shape, dtype=tf.float32, name=None)**  \n",
    "creates a tensor of shape and all elements will be zeros (when ran in session)\n",
    "\n",
    "**Similar to numpy.zeros**"
   ]
  },
  {
   "cell_type": "code",
   "execution_count": 7,
   "metadata": {},
   "outputs": [
    {
     "data": {
      "text/plain": [
       "<tf.Tensor 'zeros:0' shape=(2, 3) dtype=int32>"
      ]
     },
     "execution_count": 7,
     "metadata": {},
     "output_type": "execute_result"
    }
   ],
   "source": [
    "tf.zeros([2, 3], tf.int32) "
   ]
  },
  {
   "cell_type": "code",
   "execution_count": 8,
   "metadata": {},
   "outputs": [
    {
     "name": "stdout",
     "output_type": "stream",
     "text": [
      "[[0 0 0]\n",
      " [0 0 0]]\n"
     ]
    }
   ],
   "source": [
    "with tf.Session() as sess:\n",
    "    print(sess.run(tf.zeros([2, 3], tf.int32)))"
   ]
  },
  {
   "cell_type": "code",
   "execution_count": 9,
   "metadata": {},
   "outputs": [
    {
     "name": "stdout",
     "output_type": "stream",
     "text": [
      "[[0 0 0]\n",
      " [0 0 0]]\n"
     ]
    }
   ],
   "source": [
    "a=tf.zeros([2, 3], tf.int32)\n",
    "with tf.Session() as sess:\n",
    "    a=sess.run(a)\n",
    "print(a)"
   ]
  },
  {
   "cell_type": "markdown",
   "metadata": {},
   "source": [
    "**tf.zeros_like(input_tensor, dtype=None, name=None, optimize=True)**  \n",
    "creates a tensor of shape and type (unless type is specified) as the input_tensor but all elements are zeros."
   ]
  },
  {
   "cell_type": "code",
   "execution_count": 10,
   "metadata": {},
   "outputs": [
    {
     "name": "stdout",
     "output_type": "stream",
     "text": [
      "input_tensor equals to \n",
      " [[0 1]\n",
      " [2 3]\n",
      " [4 5]]\n",
      "output_tensor equals to \n",
      " [[0 0]\n",
      " [0 0]\n",
      " [0 0]]\n"
     ]
    }
   ],
   "source": [
    "input_tensor=tf.constant([[0, 1], [2, 3], [4, 5]])\n",
    "output_tensor=tf.zeros_like(input_tensor)\n",
    "with tf.Session() as sess:\n",
    "    input_tensor=sess.run(input_tensor)\n",
    "    output_tensor=sess.run(output_tensor)\n",
    "print(\"input_tensor equals to \\n\", input_tensor)\n",
    "print(\"output_tensor equals to \\n\", output_tensor)"
   ]
  },
  {
   "cell_type": "markdown",
   "metadata": {},
   "source": [
    "### Tensors filled with a specific value\n",
    "\n",
    "**tf.ones(shape, dtype=tf.float32, name=None)**  \n",
    "**tf.ones_like(input_tensor, dtype=None, name=None, optimize=True)**"
   ]
  },
  {
   "cell_type": "code",
   "execution_count": 11,
   "metadata": {},
   "outputs": [
    {
     "name": "stdout",
     "output_type": "stream",
     "text": [
      "[[1 1 1]\n",
      " [1 1 1]\n",
      " [1 1 1]\n",
      " [1 1 1]]\n"
     ]
    }
   ],
   "source": [
    "a=tf.ones([4, 3], tf.int32)\n",
    "with tf.Session() as sess:\n",
    "    a=sess.run(a)\n",
    "print(a)"
   ]
  },
  {
   "cell_type": "code",
   "execution_count": 12,
   "metadata": {},
   "outputs": [
    {
     "name": "stdout",
     "output_type": "stream",
     "text": [
      "input_tensor equals to:\n",
      " [[0 1]\n",
      " [2 3]\n",
      " [4 5]]\n",
      "output_tensor equals to:\n",
      " [[1 1]\n",
      " [1 1]\n",
      " [1 1]]\n"
     ]
    }
   ],
   "source": [
    "input_tensor=tf.constant([[0, 1], [2, 3], [4, 5]])\n",
    "output_tensor=tf.ones_like(input_tensor)\n",
    "with tf.Session() as sess:\n",
    "    input_tensor=sess.run(input_tensor)\n",
    "    output_tensor=sess.run(output_tensor)\n",
    "print(\"input_tensor equals to:\\n\", input_tensor)\n",
    "print(\"output_tensor equals to:\\n\", output_tensor)"
   ]
  },
  {
   "cell_type": "markdown",
   "metadata": {},
   "source": [
    "###  Tensors filled with a specific value  \n",
    "**tf.fill(dims, value, name=None)**  \n",
    "creates a tensor filled with a scalar value."
   ]
  },
  {
   "cell_type": "code",
   "execution_count": 13,
   "metadata": {},
   "outputs": [
    {
     "name": "stdout",
     "output_type": "stream",
     "text": [
      "[[8 8 8]\n",
      " [8 8 8]]\n"
     ]
    }
   ],
   "source": [
    "a=tf.fill([2, 3], 8) \n",
    "with tf.Session() as sess:\n",
    "    a=sess.run(a)\n",
    "print(a)"
   ]
  },
  {
   "cell_type": "markdown",
   "metadata": {},
   "source": [
    "## Constants as sequences"
   ]
  },
  {
   "cell_type": "code",
   "execution_count": 14,
   "metadata": {},
   "outputs": [
    {
     "name": "stdout",
     "output_type": "stream",
     "text": [
      "[10. 11. 12. 13.]\n"
     ]
    }
   ],
   "source": [
    "# tf.linspace(start, stop, num, name=None)  slightly different from np.linspace\n",
    "a=tf.linspace(10.0, 13.0, 4)\n",
    "with tf.Session() as sess:\n",
    "    a=sess.run(a)\n",
    "print(a)"
   ]
  },
  {
   "cell_type": "code",
   "execution_count": 15,
   "metadata": {},
   "outputs": [
    {
     "name": "stdout",
     "output_type": "stream",
     "text": [
      "[ 3  6  9 12 15]\n"
     ]
    }
   ],
   "source": [
    "# tf.range(start, limit=None, delta=1, dtype=None, name='range')\n",
    "a=tf.range(3, 18, 3) \n",
    "# 'start' is 3, 'limit' is 18, 'delta' is 3\n",
    "with tf.Session() as sess:\n",
    "    a=sess.run(a)\n",
    "print(a)"
   ]
  },
  {
   "cell_type": "code",
   "execution_count": 16,
   "metadata": {},
   "outputs": [
    {
     "name": "stdout",
     "output_type": "stream",
     "text": [
      "[0 1 2 3 4]\n"
     ]
    }
   ],
   "source": [
    "a=tf.range(5) \n",
    "# 'limit' is 5\n",
    "with tf.Session() as sess:\n",
    "    a=sess.run(a)\n",
    "print(a)"
   ]
  },
  {
   "cell_type": "markdown",
   "metadata": {},
   "source": [
    "**Note: NOT THE SAME AS NUMPY SEQUENCES**  \n",
    "**Note: Tensor objects are not iterable**"
   ]
  },
  {
   "cell_type": "code",
   "execution_count": 17,
   "metadata": {},
   "outputs": [],
   "source": [
    "# Raise an Error if you run the following code:\n",
    "# for _ in tf.range(4):\n",
    "#     print(\"test\")"
   ]
  },
  {
   "cell_type": "markdown",
   "metadata": {},
   "source": [
    "## Randomly Generated Constants"
   ]
  },
  {
   "cell_type": "markdown",
   "metadata": {},
   "source": [
    "**tf.random_normal(shape, mean=0.0, stddev=1.0, dtype=tf.float32, seed=None, name=None)**  \n",
    "**tf.truncated_normal(shape, mean=0.0, stddev=1.0, dtype=tf.float32, seed=None,\n",
    "name=None)**  \n",
    "**tf.random_uniform(shape, minval=0, maxval=None, dtype=tf.float32, seed=None,\n",
    "name=None)**  \n",
    "**tf.random_shuffle(value, seed=None, name=None)**  \n",
    "**tf.random_crop(value, size, seed=None, name=None)**  \n",
    "**tf.multinomial(logits, num_samples, seed=None, name=None)**  \n",
    "**tf.random_gamma(shape, alpha, beta=None, dtype=tf.float32, seed=None, name=None)**"
   ]
  },
  {
   "cell_type": "markdown",
   "metadata": {},
   "source": [
    "###  tf.set_random_seed(seed)\n",
    "\n",
    "Sets the graph-level random seed for the default graph."
   ]
  },
  {
   "cell_type": "markdown",
   "metadata": {},
   "source": [
    "## Operations\n",
    "\n",
    "**Pretty Standard, quite similar to numpy**  \n",
    "**See TensorFlow documentation** "
   ]
  },
  {
   "cell_type": "code",
   "execution_count": 18,
   "metadata": {},
   "outputs": [],
   "source": [
    "a = tf.constant([3, 6])\n",
    "b = tf.constant([2, 2]) "
   ]
  },
  {
   "cell_type": "code",
   "execution_count": 19,
   "metadata": {},
   "outputs": [
    {
     "name": "stdout",
     "output_type": "stream",
     "text": [
      "[5 8]\n"
     ]
    }
   ],
   "source": [
    "output=tf.add(a, b) \n",
    "with tf.Session() as sess:\n",
    "    output=sess.run(output)\n",
    "print(output)"
   ]
  },
  {
   "cell_type": "code",
   "execution_count": 20,
   "metadata": {},
   "outputs": [
    {
     "name": "stdout",
     "output_type": "stream",
     "text": [
      "[ 7 10]\n"
     ]
    }
   ],
   "source": [
    "output=tf.add_n([a, b, b])\n",
    "with tf.Session() as sess:\n",
    "    output=sess.run(output)\n",
    "print(output)"
   ]
  },
  {
   "cell_type": "code",
   "execution_count": 21,
   "metadata": {},
   "outputs": [
    {
     "name": "stdout",
     "output_type": "stream",
     "text": [
      "[ 6 12]\n"
     ]
    }
   ],
   "source": [
    "output=tf.multiply(a, b) \n",
    "with tf.Session() as sess:\n",
    "    output=sess.run(output)\n",
    "print(output)"
   ]
  },
  {
   "cell_type": "code",
   "execution_count": 22,
   "metadata": {},
   "outputs": [],
   "source": [
    "# Raise an Error if you run the following code:\n",
    "# output=tf.matmul(a, b)\n",
    "# with tf.Session() as sess:\n",
    "#     output=sess.run(output)\n",
    "# print(output)"
   ]
  },
  {
   "cell_type": "code",
   "execution_count": 23,
   "metadata": {},
   "outputs": [
    {
     "name": "stdout",
     "output_type": "stream",
     "text": [
      "[[18]]\n"
     ]
    }
   ],
   "source": [
    "output=tf.matmul(tf.reshape(a, [1, 2]), tf.reshape(b, [2, 1]))\n",
    "with tf.Session() as sess:\n",
    "    output=sess.run(output)\n",
    "print(output)"
   ]
  },
  {
   "cell_type": "code",
   "execution_count": 24,
   "metadata": {},
   "outputs": [
    {
     "name": "stdout",
     "output_type": "stream",
     "text": [
      "[1.5 3. ]\n"
     ]
    }
   ],
   "source": [
    "output=tf.divide(a, b) \n",
    "with tf.Session() as sess:\n",
    "    output=sess.run(output)\n",
    "print(output)"
   ]
  },
  {
   "cell_type": "code",
   "execution_count": 25,
   "metadata": {},
   "outputs": [
    {
     "name": "stdout",
     "output_type": "stream",
     "text": [
      "[1 0]\n"
     ]
    }
   ],
   "source": [
    "output=tf.mod(a, b) \n",
    "with tf.Session() as sess:\n",
    "    output=sess.run(output)\n",
    "print(output)"
   ]
  },
  {
   "cell_type": "markdown",
   "metadata": {},
   "source": [
    "### Wizard of Div"
   ]
  },
  {
   "cell_type": "code",
   "execution_count": 26,
   "metadata": {},
   "outputs": [
    {
     "name": "stdout",
     "output_type": "stream",
     "text": [
      "tf.divide(b, a) equals to: \n",
      " [[0.  0.5]\n",
      " [1.  1.5]]\n",
      "tf.truediv(b, a) equals to: \n",
      " [[0.  0.5]\n",
      " [1.  1.5]]\n",
      "tf.floordiv(b, a) equals to: \n",
      " [[0 0]\n",
      " [1 1]]\n",
      "tf.truncateddiv(b, a) equals to: \n",
      " [[0 0]\n",
      " [1 1]]\n",
      "tf.floor_div(b, a) equals to: \n",
      " [[0 0]\n",
      " [1 1]]\n"
     ]
    }
   ],
   "source": [
    "a = tf.constant([2, 2], name='a')\n",
    "b = tf.constant([[0, 1], [2, 3]], name='b')\n",
    "with tf.Session() as sess:\n",
    "     print(\"tf.divide(b, a) equals to: \\n\", sess.run(tf.divide(b, a)))\n",
    "     print(\"tf.truediv(b, a) equals to: \\n\", sess.run(tf.truediv(b, a)))\n",
    "     print(\"tf.floordiv(b, a) equals to: \\n\", sess.run(tf.floordiv(b, a)))\n",
    "#      print(\".realdiv(b, a) equals to: \\n\", sess.run(tf.realdiv(b, a)))  Error: only works for real values\n",
    "     print(\"tf.truncateddiv(b, a) equals to: \\n\", sess.run(tf.truncatediv(b, a)))\n",
    "     print(\"tf.floor_div(b, a) equals to: \\n\", sess.run(tf.floor_div(b, a)))"
   ]
  },
  {
   "cell_type": "markdown",
   "metadata": {},
   "source": [
    "##  TensorFlow Data Types\n",
    "\n",
    "**TensorFlow takes Python natives types: boolean, numeric (int, float), strings**"
   ]
  },
  {
   "cell_type": "code",
   "execution_count": 27,
   "metadata": {},
   "outputs": [
    {
     "data": {
      "text/plain": [
       "<tf.Tensor 'zeros_like_1:0' shape=() dtype=int32>"
      ]
     },
     "execution_count": 27,
     "metadata": {},
     "output_type": "execute_result"
    }
   ],
   "source": [
    "# 0-d tensor, or \"scalar\"\n",
    "t_0 = 19\n",
    "tf.zeros_like(t_0) "
   ]
  },
  {
   "cell_type": "code",
   "execution_count": 28,
   "metadata": {},
   "outputs": [
    {
     "data": {
      "text/plain": [
       "<tf.Tensor 'ones_like_1:0' shape=() dtype=int32>"
      ]
     },
     "execution_count": 28,
     "metadata": {},
     "output_type": "execute_result"
    }
   ],
   "source": [
    "tf.ones_like(t_0) "
   ]
  },
  {
   "cell_type": "code",
   "execution_count": 29,
   "metadata": {},
   "outputs": [
    {
     "name": "stdout",
     "output_type": "stream",
     "text": [
      "[b'' b'' b'']\n"
     ]
    }
   ],
   "source": [
    "# 1-d tensor, or \"vector\"\n",
    "t_1 = ['apple', 'peach', 'grape']\n",
    "output=tf.zeros_like(t_1) \n",
    "with tf.Session() as sess:\n",
    "    output=sess.run(output)\n",
    "print(output)"
   ]
  },
  {
   "cell_type": "code",
   "execution_count": 30,
   "metadata": {},
   "outputs": [],
   "source": [
    "# # Raise an Error if you run the following code:\n",
    "# output=tf.ones_like(t_1) \n",
    "# with tf.Session() as sess:\n",
    "#     output=sess.run(output)\n",
    "# print(output)"
   ]
  },
  {
   "cell_type": "code",
   "execution_count": 31,
   "metadata": {},
   "outputs": [],
   "source": [
    "# 2x2 tensor, or \"matrix\"\n",
    "t_2 = [[True, False, False],\n",
    "       [False, False, True],\n",
    "       [False, True, False]]"
   ]
  },
  {
   "cell_type": "code",
   "execution_count": 32,
   "metadata": {},
   "outputs": [
    {
     "name": "stdout",
     "output_type": "stream",
     "text": [
      "[[False False False]\n",
      " [False False False]\n",
      " [False False False]]\n"
     ]
    }
   ],
   "source": [
    "output=tf.zeros_like(t_2) \n",
    "with tf.Session() as sess:\n",
    "    output=sess.run(output)\n",
    "print(output)"
   ]
  },
  {
   "cell_type": "code",
   "execution_count": 33,
   "metadata": {},
   "outputs": [
    {
     "name": "stdout",
     "output_type": "stream",
     "text": [
      "[[ True  True  True]\n",
      " [ True  True  True]\n",
      " [ True  True  True]]\n"
     ]
    }
   ],
   "source": [
    "output=tf.ones_like(t_2) \n",
    "with tf.Session() as sess:\n",
    "    output=sess.run(output)\n",
    "print(output)"
   ]
  },
  {
   "cell_type": "markdown",
   "metadata": {},
   "source": [
    "## TensorFlow Data Types"
   ]
  },
  {
   "cell_type": "markdown",
   "metadata": {},
   "source": [
    "### TF VS NP Data Types\n",
    "\n",
    "**TensorFlow integrates seamlessly with NumPy**"
   ]
  },
  {
   "cell_type": "code",
   "execution_count": 34,
   "metadata": {},
   "outputs": [
    {
     "data": {
      "text/plain": [
       "True"
      ]
     },
     "execution_count": 34,
     "metadata": {},
     "output_type": "execute_result"
    }
   ],
   "source": [
    "import numpy as np\n",
    "tf.int32 == np.int32"
   ]
  },
  {
   "cell_type": "markdown",
   "metadata": {},
   "source": [
    "**Can pass numpy types to TensorFlow ops?**"
   ]
  },
  {
   "cell_type": "code",
   "execution_count": 35,
   "metadata": {},
   "outputs": [
    {
     "data": {
      "text/plain": [
       "<tf.Tensor 'ones_1:0' shape=(2, 2) dtype=float32>"
      ]
     },
     "execution_count": 35,
     "metadata": {},
     "output_type": "execute_result"
    }
   ],
   "source": [
    "tf.ones([2, 2], np.float32) "
   ]
  },
  {
   "cell_type": "markdown",
   "metadata": {},
   "source": [
    "**For tf.Session.run(fetches): if the requested fetch is a Tensor , output will be a NumPy ndarray.**"
   ]
  },
  {
   "cell_type": "code",
   "execution_count": 36,
   "metadata": {},
   "outputs": [
    {
     "name": "stdout",
     "output_type": "stream",
     "text": [
      "<class 'tensorflow.python.framework.ops.Tensor'>\n"
     ]
    }
   ],
   "source": [
    "sess = tf.Session()\n",
    "a = tf.zeros([2, 3], np.int32)\n",
    "print(type(a))"
   ]
  },
  {
   "cell_type": "code",
   "execution_count": 37,
   "metadata": {},
   "outputs": [
    {
     "name": "stdout",
     "output_type": "stream",
     "text": [
      "<class 'numpy.ndarray'>\n"
     ]
    },
    {
     "data": {
      "text/plain": [
       "<bound method BaseSession.close of <tensorflow.python.client.session.Session object at 0x12e0337b8>>"
      ]
     },
     "execution_count": 37,
     "metadata": {},
     "output_type": "execute_result"
    }
   ],
   "source": [
    "# a = sess.run(a)  # Avoid doing this. Use a_out = sess.run(a)\n",
    "a_out = sess.run(a)  \n",
    "print(type(a_out )) \n",
    "sess.close"
   ]
  },
  {
   "cell_type": "markdown",
   "metadata": {},
   "source": [
    "* Python native types: TensorFlow has to infer Python type\n",
    "* NumPy arrays: NumPy is not GPU compatible"
   ]
  },
  {
   "cell_type": "markdown",
   "metadata": {},
   "source": [
    "### What’s wrong with constants ..."
   ]
  },
  {
   "cell_type": "markdown",
   "metadata": {},
   "source": [
    "* ... other than being constant?\n",
    "* Constants are stored in the graph definition"
   ]
  },
  {
   "cell_type": "markdown",
   "metadata": {},
   "source": [
    "## Print out the graph def"
   ]
  },
  {
   "cell_type": "code",
   "execution_count": 38,
   "metadata": {},
   "outputs": [],
   "source": [
    "# my_const = tf.constant([1.0, 2.0], name=\"my_const\")\n",
    "# with tf.Session() as sess:\n",
    "#      print(sess.graph.as_graph_def())"
   ]
  },
  {
   "cell_type": "markdown",
   "metadata": {},
   "source": [
    "**What’s wrong with constants?**  \n",
    "**This makes loading graphs expensive when constants are big**  \n",
    "\n",
    "* **Only use constants for primitive types.**\n",
    "* **Use variables or readers for more data that requires more memory**"
   ]
  },
  {
   "cell_type": "markdown",
   "metadata": {},
   "source": [
    "## Variables"
   ]
  },
  {
   "cell_type": "code",
   "execution_count": 39,
   "metadata": {},
   "outputs": [
    {
     "name": "stdout",
     "output_type": "stream",
     "text": [
      "WARNING:tensorflow:From /anaconda3/lib/python3.6/site-packages/tensorflow/python/framework/op_def_library.py:263: colocate_with (from tensorflow.python.framework.ops) is deprecated and will be removed in a future version.\n",
      "Instructions for updating:\n",
      "Colocations handled automatically by placer.\n"
     ]
    }
   ],
   "source": [
    "# create variables with tf.Variable\n",
    "s = tf.Variable(2, name=\"scalar\")\n",
    "m = tf.Variable([[0, 1], [2, 3]], name=\"matrix\")\n",
    "W = tf.Variable(tf.zeros([784,10]))"
   ]
  },
  {
   "cell_type": "code",
   "execution_count": 40,
   "metadata": {},
   "outputs": [],
   "source": [
    "# create variables with tf.get_variable\n",
    "s = tf.get_variable(\"scalar\", initializer=tf.constant(2))\n",
    "m = tf.get_variable(\"matrix\", initializer=tf.constant([[0, 1], [2, 3]]))\n",
    "W = tf.get_variable(\"big_matrix\", shape=(784, 10), initializer=tf.zeros_initializer())"
   ]
  },
  {
   "cell_type": "markdown",
   "metadata": {},
   "source": [
    "**Why tf.constant but tf.Variable?**\n",
    "\n",
    "* **tf.constant is an op**\n",
    "* **tf.Variable is a class with many ops**"
   ]
  },
  {
   "cell_type": "markdown",
   "metadata": {},
   "source": [
    "**tf.Variable holds several ops:**  \n",
    "x = tf.Variable(...)  \n",
    "x.initializer # init op  \n",
    "x.value() # read op  \n",
    "x.assign(...) # write op  \n",
    "x.assign_add(...) # and more  "
   ]
  },
  {
   "cell_type": "code",
   "execution_count": 41,
   "metadata": {},
   "outputs": [],
   "source": [
    "## FailedPreconditionError: Attempting to use uninitialized value Variable\n",
    "# with tf.Session() as sess:\n",
    "#     print(sess.run(W)) "
   ]
  },
  {
   "cell_type": "markdown",
   "metadata": {},
   "source": [
    "### You have to initialize your variables"
   ]
  },
  {
   "cell_type": "markdown",
   "metadata": {},
   "source": [
    "#### The easiest way is initializing all variables at once:"
   ]
  },
  {
   "cell_type": "code",
   "execution_count": 42,
   "metadata": {},
   "outputs": [],
   "source": [
    "with tf.Session() as sess:\n",
    "     sess.run(tf.global_variables_initializer())"
   ]
  },
  {
   "cell_type": "markdown",
   "metadata": {},
   "source": [
    "**Initializer is an op. You need to execute it within the context of a session**"
   ]
  },
  {
   "cell_type": "markdown",
   "metadata": {},
   "source": [
    "#### Initialize only a subset of variables:"
   ]
  },
  {
   "cell_type": "code",
   "execution_count": 43,
   "metadata": {},
   "outputs": [],
   "source": [
    "a = tf.get_variable(\"new_a\", initializer=tf.constant(2))\n",
    "b = tf.get_variable(\"new_b\", initializer=tf.constant([[0, 1], [2, 3]]))\n",
    "with tf.Session() as sess:\n",
    "    sess.run(tf.variables_initializer([a, b]))"
   ]
  },
  {
   "cell_type": "markdown",
   "metadata": {},
   "source": [
    "**Initialize a single variable**"
   ]
  },
  {
   "cell_type": "code",
   "execution_count": 44,
   "metadata": {},
   "outputs": [],
   "source": [
    "W = tf.Variable(tf.zeros([784,10]))\n",
    "with tf.Session() as sess:\n",
    "     sess.run(W.initializer)"
   ]
  },
  {
   "cell_type": "markdown",
   "metadata": {},
   "source": [
    "**Eval() a variable**"
   ]
  },
  {
   "cell_type": "code",
   "execution_count": 45,
   "metadata": {},
   "outputs": [
    {
     "name": "stdout",
     "output_type": "stream",
     "text": [
      "<tf.Variable 'Variable_2:0' shape=(700, 10) dtype=float32_ref>\n"
     ]
    }
   ],
   "source": [
    "# W is a random 700 x 100 variable object\n",
    "W = tf.Variable(tf.truncated_normal([700, 10]))\n",
    "with tf.Session() as sess:\n",
    "     sess.run(W.initializer)\n",
    "     print(W)"
   ]
  },
  {
   "cell_type": "code",
   "execution_count": 46,
   "metadata": {},
   "outputs": [
    {
     "name": "stdout",
     "output_type": "stream",
     "text": [
      "[[-1.3585207  -0.26082855 -0.77772367 ...  0.7638039  -0.78380114\n",
      "   0.05888113]\n",
      " [-0.54085964 -1.3026671  -1.4050846  ... -1.111431    1.0019832\n",
      "  -0.1288679 ]\n",
      " [-1.1959075  -0.31608912 -0.7826985  ...  0.87733245  1.6213993\n",
      "   0.7859457 ]\n",
      " ...\n",
      " [ 0.20817828 -0.6878276   0.6815436  ... -0.527968    1.0681759\n",
      "  -1.6109567 ]\n",
      " [ 0.22283703 -0.07138795  0.92810667 ... -0.40445748  1.2574506\n",
      "   0.07722294]\n",
      " [-1.7497178  -0.8770621   0.99389136 ...  0.17650008  1.0534966\n",
      "  -1.4417505 ]]\n"
     ]
    }
   ],
   "source": [
    " # W is a random 700 x 100 variable object\n",
    "W = tf.Variable(tf.truncated_normal([700, 10]))\n",
    "with tf.Session() as sess:\n",
    "     sess.run(W.initializer)\n",
    "     print(W.eval())    # Similar to print(sess.run(W))"
   ]
  },
  {
   "cell_type": "markdown",
   "metadata": {},
   "source": [
    "**tf.Variable.assign()**"
   ]
  },
  {
   "cell_type": "code",
   "execution_count": 47,
   "metadata": {},
   "outputs": [
    {
     "name": "stdout",
     "output_type": "stream",
     "text": [
      "10\n"
     ]
    }
   ],
   "source": [
    "W = tf.Variable(10)\n",
    "W.assign(100)\n",
    "with tf.Session() as sess:\n",
    "     sess.run(W.initializer)\n",
    "     print(W.eval())"
   ]
  },
  {
   "cell_type": "markdown",
   "metadata": {},
   "source": [
    "W.assign(100) creates an assign op. That op needs to be executed in a session to take effect."
   ]
  },
  {
   "cell_type": "code",
   "execution_count": 48,
   "metadata": {},
   "outputs": [
    {
     "name": "stdout",
     "output_type": "stream",
     "text": [
      "100\n"
     ]
    }
   ],
   "source": [
    "W = tf.Variable(10)\n",
    "assign_op = W.assign(100)\n",
    "with tf.Session() as sess:\n",
    "     sess.run(W.initializer)\n",
    "     sess.run(assign_op)\n",
    "     print(W.eval())"
   ]
  },
  {
   "cell_type": "code",
   "execution_count": 49,
   "metadata": {},
   "outputs": [
    {
     "name": "stdout",
     "output_type": "stream",
     "text": [
      "4\n"
     ]
    }
   ],
   "source": [
    " # create a variable whose original value is 2\n",
    "my_var = tf.Variable(2, name=\"my_var\")\n",
    "# assign a * 2 to a and call that op a_times_two\n",
    "my_var_times_two = my_var.assign(2 * my_var)\n",
    "with tf.Session() as sess:\n",
    "     sess.run(my_var.initializer)\n",
    "     print(sess.run(my_var_times_two)) #what’s the value of my_var now?"
   ]
  },
  {
   "cell_type": "code",
   "execution_count": 50,
   "metadata": {},
   "outputs": [
    {
     "name": "stdout",
     "output_type": "stream",
     "text": [
      "4\n",
      "8\n"
     ]
    }
   ],
   "source": [
    " # create a variable whose original value is 2\n",
    "my_var = tf.Variable(2, name=\"my_var\")\n",
    "# assign a * 2 to a and call that op a_times_two\n",
    "my_var_times_two = my_var.assign(2 * my_var)\n",
    "with tf.Session() as sess:\n",
    "     sess.run(my_var.initializer)\n",
    "     print(sess.run(my_var_times_two)) # the value of my_var now is 4\n",
    "     print(sess.run(my_var_times_two)) # the value of my_var now is ???"
   ]
  },
  {
   "cell_type": "code",
   "execution_count": 51,
   "metadata": {},
   "outputs": [
    {
     "name": "stdout",
     "output_type": "stream",
     "text": [
      "4\n",
      "8\n",
      "16\n"
     ]
    }
   ],
   "source": [
    " # create a variable whose original value is 2\n",
    "my_var = tf.Variable(2, name=\"my_var\")\n",
    "# assign a * 2 to a and call that op a_times_two\n",
    "my_var_times_two = my_var.assign(2 * my_var)\n",
    "with tf.Session() as sess:\n",
    "     sess.run(my_var.initializer)\n",
    "     print(sess.run(my_var_times_two)) # the value of my_var now is 4\n",
    "     print(sess.run(my_var_times_two)) # the value of my_var now is 8\n",
    "     print(sess.run(my_var_times_two)) # the value of my_var now is 16"
   ]
  },
  {
   "cell_type": "markdown",
   "metadata": {},
   "source": [
    "**assign_add() and assign_sub()**"
   ]
  },
  {
   "cell_type": "code",
   "execution_count": 52,
   "metadata": {},
   "outputs": [
    {
     "name": "stdout",
     "output_type": "stream",
     "text": [
      "20\n",
      "18\n"
     ]
    }
   ],
   "source": [
    "my_var = tf.Variable(10)\n",
    "with tf.Session() as sess:\n",
    "     sess.run(my_var.initializer)\n",
    "     # increment by 10\n",
    "     print(sess.run(my_var.assign_add(10)))\n",
    "     # decrement by 2\n",
    "     print(sess.run(my_var.assign_sub(2)))"
   ]
  },
  {
   "cell_type": "markdown",
   "metadata": {},
   "source": [
    "**Each session maintains its own copy of variables**"
   ]
  },
  {
   "cell_type": "code",
   "execution_count": 53,
   "metadata": {},
   "outputs": [
    {
     "name": "stdout",
     "output_type": "stream",
     "text": [
      "20\n",
      "8\n"
     ]
    }
   ],
   "source": [
    "W = tf.Variable(10)\n",
    "sess1 = tf.Session()\n",
    "sess2 = tf.Session()\n",
    "sess1.run(W.initializer)\n",
    "sess2.run(W.initializer)\n",
    "print(sess1.run(W.assign_add(10)))\n",
    "print(sess2.run(W.assign_sub(2)))\n",
    "sess1.close()\n",
    "sess2.close()"
   ]
  },
  {
   "cell_type": "code",
   "execution_count": 54,
   "metadata": {},
   "outputs": [
    {
     "name": "stdout",
     "output_type": "stream",
     "text": [
      "20\n",
      "8\n"
     ]
    }
   ],
   "source": [
    "W = tf.Variable(10)\n",
    "with tf.Session() as sess1:\n",
    "    sess1.run(W.initializer)\n",
    "    print(sess1.run(W.assign_add(10)))\n",
    "with tf.Session() as sess2:\n",
    "    sess2.run(W.initializer)\n",
    "    print(sess2.run(W.assign_sub(2)))"
   ]
  },
  {
   "cell_type": "code",
   "execution_count": 55,
   "metadata": {},
   "outputs": [
    {
     "name": "stdout",
     "output_type": "stream",
     "text": [
      "20\n",
      "8\n",
      "120\n",
      "-42\n"
     ]
    }
   ],
   "source": [
    "W = tf.Variable(10)\n",
    "sess1 = tf.Session()\n",
    "sess2 = tf.Session()\n",
    "sess1.run(W.initializer)\n",
    "sess2.run(W.initializer)\n",
    "print(sess1.run(W.assign_add(10)))\n",
    "print(sess2.run(W.assign_sub(2)))\n",
    "print(sess1.run(W.assign_add(100)))\n",
    "print(sess2.run(W.assign_sub(50)))\n",
    "sess1.close()\n",
    "sess2.close()"
   ]
  },
  {
   "cell_type": "markdown",
   "metadata": {},
   "source": [
    "##   Control Dependencies"
   ]
  },
  {
   "cell_type": "markdown",
   "metadata": {},
   "source": [
    "**tf.Graph.control_dependencies(control_inputs)**  \n",
    "defines which ops should be run first  \n",
    "your graph g have 5 ops: a, b, c, d, e  \n",
    "g = tf.get_default_graph()   \n",
    "with g.control_dependencies([a, b, c]):  \n",
    "'d' and 'e' will only run after 'a', 'b', and 'c' have executed.  \n",
    "d =...  \n",
    "e=...  \n",
    " "
   ]
  },
  {
   "cell_type": "markdown",
   "metadata": {},
   "source": [
    "**Getting to know each other**"
   ]
  },
  {
   "cell_type": "markdown",
   "metadata": {},
   "source": [
    "## Placeholder"
   ]
  },
  {
   "cell_type": "markdown",
   "metadata": {},
   "source": [
    "**A quick reminder**  \n",
    "A TF program often has 2 phases:  \n",
    "1. Assemble a graph\n",
    "2. Use a session to execute operations in the graph.  \n",
    "\n",
    "⇒ Assemble the graph first without knowing the values needed for computation  \n",
    "Analogy: Define the function f(x, y) = 2 * x + y without knowing value of x or y. x, y are placeholders for the actual values.\n",
    "\n",
    " **Why placeholders?**  \n",
    " We, or our clients, can later supply their own data when they need to execute the computation.\n",
    " "
   ]
  },
  {
   "cell_type": "markdown",
   "metadata": {},
   "source": [
    "**tf.placeholder(dtype, shape=None, name=None)**"
   ]
  },
  {
   "cell_type": "code",
   "execution_count": 56,
   "metadata": {},
   "outputs": [],
   "source": [
    "# # create a placeholder for a vector of 3 elements, type tf.float32\n",
    "# a = tf.placeholder(tf.float32, shape=[3])\n",
    "# b = tf.constant([5, 5, 5], tf.float32)\n",
    "# # use the placeholder as you would a constant or a variable\n",
    "# c = a + b  # short for tf.add(a, b)\n",
    "## Raise an Error if you run the following code:\n",
    "## InvalidArgumentError: a doesn’t an actual value\n",
    "# with tf.Session() as sess:\n",
    "#     print(sess.run(c))"
   ]
  },
  {
   "cell_type": "markdown",
   "metadata": {},
   "source": [
    "**Supplement the values to placeholders using a dictionary**"
   ]
  },
  {
   "cell_type": "code",
   "execution_count": 57,
   "metadata": {},
   "outputs": [
    {
     "name": "stdout",
     "output_type": "stream",
     "text": [
      "[6. 7. 8.]\n"
     ]
    }
   ],
   "source": [
    "# create a placeholder for a vector of 3 elements, type tf.float32\n",
    "a = tf.placeholder(tf.float32, shape=[3])\n",
    "b = tf.constant([5, 5, 5], tf.float32)\n",
    "# use the placeholder as you would a constant or a variable\n",
    "c = a + b  # short for tf.add(a, b)\n",
    "with tf.Session() as sess:\n",
    "    print(sess.run(c, feed_dict={a: [1, 2, 3]})) \n",
    "    # the tensor a is the key, not the string ‘a’"
   ]
  },
  {
   "cell_type": "markdown",
   "metadata": {},
   "source": [
    "*tf.placeholder(dtype, **shape=None**, name=None)*  \n",
    "\n",
    "Quirk:  \n",
    "shape=None means that tensor of any shape will be accepted as value for placeholder.  \n",
    "\n",
    "shape=None is easy to construct graphs, but nightmarish for debugging\n",
    " "
   ]
  },
  {
   "cell_type": "markdown",
   "metadata": {},
   "source": [
    "Quirk:  \n",
    "**shape=None also breaks all following shape inference, which makes many ops not work because they expect certain rank.**"
   ]
  },
  {
   "cell_type": "code",
   "execution_count": 58,
   "metadata": {},
   "outputs": [
    {
     "name": "stdout",
     "output_type": "stream",
     "text": [
      "[6. 7. 8.]\n"
     ]
    }
   ],
   "source": [
    "# create a placeholder of type float 32-bit, shape is a vector of 3 elements\n",
    "a = tf.placeholder(tf.float32, shape=[3])\n",
    "# create a constant of type float 32-bit, shape is a vector of 3 elements\n",
    "b = tf.constant([5, 5, 5], tf.float32)\n",
    "   # use the placeholder as you would a constant or a variable\n",
    "c = a + b  # Short for tf.add(a, b)\n",
    "with tf.Session() as sess:\n",
    "      print(sess.run(c, {a: [1, 2, 3]}))"
   ]
  },
  {
   "cell_type": "markdown",
   "metadata": {},
   "source": [
    "What if want to feed multiple data points in?"
   ]
  },
  {
   "cell_type": "code",
   "execution_count": 59,
   "metadata": {},
   "outputs": [
    {
     "name": "stdout",
     "output_type": "stream",
     "text": [
      "[6. 7. 8.]\n",
      "[ 9. 10. 11.]\n"
     ]
    }
   ],
   "source": [
    "# You have to do it one at a time\n",
    "list_of_values_for_a=[[1,2,3], [4,5,6]]\n",
    "with tf.Session() as sess:\n",
    "     for a_value in list_of_values_for_a:\n",
    "           print(sess.run(c, {a: a_value}))"
   ]
  },
  {
   "cell_type": "markdown",
   "metadata": {},
   "source": [
    "**You can feed_dict any feedable tensor. Placeholder is just a way to indicate that something must be fed**"
   ]
  },
  {
   "cell_type": "markdown",
   "metadata": {},
   "source": [
    "**tf.Graph.is_feedable(tensor)**  \n",
    "True if and only if tensor is feedable."
   ]
  },
  {
   "cell_type": "markdown",
   "metadata": {},
   "source": [
    "### Feeding values to TF ops"
   ]
  },
  {
   "cell_type": "code",
   "execution_count": 60,
   "metadata": {},
   "outputs": [
    {
     "name": "stdout",
     "output_type": "stream",
     "text": [
      "45\n"
     ]
    }
   ],
   "source": [
    "# create operations, tensors, etc (using the default graph)\n",
    "a = tf.add(2, 5)\n",
    "b = tf.multiply(a, 3)\n",
    "with tf.Session() as sess:\n",
    "     # compute the value of b given a is 15\n",
    "     print(sess.run(b, feed_dict={a: 15}))"
   ]
  },
  {
   "cell_type": "markdown",
   "metadata": {},
   "source": [
    "**Extremely helpful for testing Feed in dummy values to test parts of a large graph**"
   ]
  },
  {
   "cell_type": "markdown",
   "metadata": {},
   "source": [
    "### The trap of lazy loading"
   ]
  },
  {
   "cell_type": "markdown",
   "metadata": {},
   "source": [
    "What’s lazy loading?"
   ]
  },
  {
   "cell_type": "markdown",
   "metadata": {},
   "source": [
    " Defer creating/initializing an object until it is needed"
   ]
  },
  {
   "cell_type": "markdown",
   "metadata": {},
   "source": [
    "### Lazy loading Example"
   ]
  },
  {
   "cell_type": "code",
   "execution_count": 61,
   "metadata": {},
   "outputs": [],
   "source": [
    "# Normal loading\n",
    "x = tf.Variable(10, name='x')\n",
    "y = tf.Variable(20, name='y')\n",
    "z = tf.add(x, y) # create the node before executing the graph\n",
    "writer = tf.summary.FileWriter('./graphs/normal_loading', tf.get_default_graph())\n",
    "with tf.Session() as sess:\n",
    "     sess.run(tf.global_variables_initializer())\n",
    "     for _ in range(10):\n",
    "        sess.run(z)\n",
    "writer.close()"
   ]
  },
  {
   "cell_type": "code",
   "execution_count": 62,
   "metadata": {},
   "outputs": [],
   "source": [
    "# Lazy loading    \n",
    "x = tf.Variable(10, name='x')\n",
    "y = tf.Variable(20, name='y')\n",
    "writer = tf.summary.FileWriter('./graphs/lazy_loading', tf.get_default_graph())\n",
    "with tf.Session() as sess:\n",
    "     sess.run(tf.global_variables_initializer())\n",
    "     for _ in range(10):\n",
    "           sess.run(tf.add(x, y)) # someone decides to be clever to save one line of code\n",
    "writer.close()"
   ]
  },
  {
   "cell_type": "markdown",
   "metadata": {},
   "source": [
    "**Both give the same value of z What’s the problem?**"
   ]
  },
  {
   "cell_type": "markdown",
   "metadata": {},
   "source": [
    " **tf.get_default_graph().as_graph_def()**  \n",
    " **Normal loading**  \n",
    "     node {  \n",
    "  name: \"Add\"  \n",
    "  op: \"Add\"  \n",
    "  input: \"x/read\"  \n",
    "  input: \"y/read\"  \n",
    "  attr {  \n",
    "    key: \"T\"  \n",
    "    value {  \n",
    "      type: DT_INT32  \n",
    "    }  \n",
    "} }  "
   ]
  },
  {
   "cell_type": "markdown",
   "metadata": {},
   "source": [
    " **tf.get_default_graph().as_graph_def() Lazy loading**  \n",
    "**Lazy loading**  \n",
    "node {  \n",
    "  name: \"Add_1\"  \n",
    "  op: \"Add\"  \n",
    "  ...  \n",
    "  }  \n",
    "... node {  \n",
    "  name: \"Add_10\"  \n",
    "  op: \"Add\"  \n",
    "  ...  \n",
    "}  "
   ]
  },
  {
   "cell_type": "markdown",
   "metadata": {},
   "source": [
    "Node “Add” added 10 times to the graph definition  \n",
    "Or as many times as you want to compute z  "
   ]
  },
  {
   "cell_type": "markdown",
   "metadata": {},
   "source": [
    "* **Imagine you want to compute an op thousands, or millions of times!**  \n",
    "* **Your graph gets bloated Slow to load Expensive to pass around**  \n",
    "* **One of the most common TF non-bug bugs I’ve seen on GitHub**"
   ]
  },
  {
   "cell_type": "markdown",
   "metadata": {},
   "source": [
    "### Solution"
   ]
  },
  {
   "cell_type": "markdown",
   "metadata": {},
   "source": [
    "1. Separate definition of ops from computing/running ops\n",
    "2. Use Python property to ensure function is also loaded once the first time it is called"
   ]
  },
  {
   "cell_type": "markdown",
   "metadata": {},
   "source": [
    "Putting it together:  \n",
    "Let’s build a machine learning model!"
   ]
  },
  {
   "cell_type": "markdown",
   "metadata": {},
   "source": [
    "**Next class**  \n",
    "Linear regression  \n",
    "Control Flow  \n",
    "tf.data  \n",
    "Optimizers  \n",
    "Logistic regression on MNIST Feedback: huyenn@stanford.edu   \n",
    "Thanks!"
   ]
  }
 ],
 "metadata": {
  "kernelspec": {
   "display_name": "Python 3",
   "language": "python",
   "name": "python3"
  },
  "language_info": {
   "codemirror_mode": {
    "name": "ipython",
    "version": 3
   },
   "file_extension": ".py",
   "mimetype": "text/x-python",
   "name": "python",
   "nbconvert_exporter": "python",
   "pygments_lexer": "ipython3",
   "version": "3.6.7"
  }
 },
 "nbformat": 4,
 "nbformat_minor": 2
}
