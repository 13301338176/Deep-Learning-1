{
 "cells": [
  {
   "cell_type": "markdown",
   "metadata": {},
   "source": [
    "# Welcome to TensorFlow!\n",
    "\n",
    "Adapted from [CS 20: Tensorflow for Deep Learning Research](http://web.stanford.edu/class/cs20si/syllabus.html)\n",
    "\n",
    "CS 20: TensorFlow for Deep Learning Research  \n",
    "Lecture 1  \n",
    "1/12/2018"
   ]
  },
  {
   "cell_type": "markdown",
   "metadata": {},
   "source": [
    "## Course Description\n",
    "TensorFlow is a powerful open-source software library for machine learning developed by researchers at Google. \n",
    "It has many pre-built functions to ease the task of building different neural networks. TensorFlow allows distribution \n",
    "of computation across different computers, as well as multiple CPUs and GPUs within a single machine. TensorFlow provides a Python API, \n",
    "as well as a less documented C++ API. For this course, we will be using Python. \n",
    "\n",
    "This course will cover the fundamentals and contemporary usage of the Tensorflow library for deep learning research. We aim to help students understand the graphical \n",
    "computational model of TensorFlow, explore the functions it has to offer, and learn how to build and structure models best suited for a deep learning project. \n",
    "Through the course, students will use TensorFlow to build models of different complexity, from simple linear/logistic regression to convolutional neural network \n",
    "and recurrent neural networks to solve tasks such as word embedding, translation, optical character recognition, reinforcement learning. Students will also learn best \n",
    "practices to structure a model and manage research experiments."
   ]
  },
  {
   "cell_type": "markdown",
   "metadata": {},
   "source": [
    "## What’s TensorFlow?\n",
    "* Open source software library for numerical computation using data flow graphs\n",
    "* Originally developed by Google Brain Team to conduct machine learning and deep neural networks research\n",
    "* General enough to be applicable in a wide variety of other domains as well\n",
    " \n",
    " TensorFlow provides an extensive suite of functions and classes that allow users to build various models from scratch."
   ]
  },
  {
   "cell_type": "markdown",
   "metadata": {},
   "source": [
    " ## Why TensorFlow?\n",
    "* Python API\n",
    "* Portability: deploy computation to one or more CPUs or GPUs in a desktop,\n",
    "server, or mobile device with a single API\n",
    "* Flexibility: from Raspberry Pi, Android, Windows, iOS, Linux to server farms\n",
    "* Visualization (TensorBoard is da bomb)\n",
    "* Checkpoints (for managing experiments)\n",
    "* Auto-differentiation autodiff (no more taking derivatives by hand. Yay)\n",
    "* Large community (> 10,000 commits and > 3000 TF-related repos in 1 year)\n",
    "* Awesome projects already using TensorFlow "
   ]
  },
  {
   "cell_type": "markdown",
   "metadata": {},
   "source": [
    "##  Getting Started"
   ]
  },
  {
   "cell_type": "code",
   "execution_count": 1,
   "metadata": {},
   "outputs": [],
   "source": [
    "import tensorflow as tf"
   ]
  },
  {
   "cell_type": "markdown",
   "metadata": {},
   "source": [
    "##  Graphs and Sessions\n",
    "###  Data Flow Graphs\n",
    "\n",
    "**TensorFlow separates definition of computations from their execution**  \n",
    "\n",
    "Phase 1: assemble a graph  \n",
    "Phase 2: use a session to execute operations in the graph.  "
   ]
  },
  {
   "cell_type": "markdown",
   "metadata": {},
   "source": [
    "### Tensors\n",
    "\n",
    "**What's a tensor?**  \n",
    "An n-dimensional array  \n",
    "0-d tensor: scalar (number) 1-d tensor: vector  \n",
    "2-d tensor: matrix  \n",
    "and so on  \n",
    " \n",
    "Tensors are the basic elements of computation in TensorFlow."
   ]
  },
  {
   "cell_type": "markdown",
   "metadata": {},
   "source": [
    "### Constants\n",
    "\n",
    "tf.constant(value, dtype=None, shape=None, name='Const', verify_shape=False)"
   ]
  },
  {
   "cell_type": "code",
   "execution_count": 28,
   "metadata": {},
   "outputs": [
    {
     "name": "stdout",
     "output_type": "stream",
     "text": [
      "Tensor(\"a_2:0\", shape=(), dtype=int32)\n"
     ]
    }
   ],
   "source": [
    "c=tf.constant(25,name='a')\n",
    "print(c)"
   ]
  },
  {
   "cell_type": "code",
   "execution_count": 31,
   "metadata": {},
   "outputs": [
    {
     "name": "stdout",
     "output_type": "stream",
     "text": [
      "Tensor(\"a_4:0\", shape=(), dtype=float32)\n"
     ]
    }
   ],
   "source": [
    "c=tf.constant(25,name='a', dtype=float)\n",
    "print(c)"
   ]
  },
  {
   "cell_type": "code",
   "execution_count": 30,
   "metadata": {},
   "outputs": [
    {
     "name": "stdout",
     "output_type": "stream",
     "text": [
      "Tensor(\"b_1:0\", shape=(), dtype=int32)\n"
     ]
    }
   ],
   "source": [
    "d=tf.constant(10,name='b')\n",
    "print(d)"
   ]
  },
  {
   "cell_type": "markdown",
   "metadata": {},
   "source": [
    "### Operations\n",
    "tf.add, tf.subtract, tf.multiply, tf.scalar_mul, tf.div, tf.divide"
   ]
  },
  {
   "cell_type": "markdown",
   "metadata": {},
   "source": [
    "## Data Flow Graphs"
   ]
  },
  {
   "cell_type": "code",
   "execution_count": 2,
   "metadata": {},
   "outputs": [
    {
     "name": "stdout",
     "output_type": "stream",
     "text": [
      "Tensor(\"Add:0\", shape=(), dtype=int32)\n"
     ]
    }
   ],
   "source": [
    "a = tf.add(3, 5)\n",
    "print(a)"
   ]
  },
  {
   "cell_type": "markdown",
   "metadata": {},
   "source": [
    "**Nodes: operators, variables, and constants Edges: tensors\n",
    "Tensors are data.**  \n",
    "**TensorFlow = tensor + flow = data + flow (I know, mind=blown)**"
   ]
  },
  {
   "cell_type": "markdown",
   "metadata": {},
   "source": [
    "##  How to get the value of a?\n",
    "\n",
    "**Create a session, assign it to variable sess so we can call it later**   \n",
    "**Within the session, evaluate the graph to fetch the value of a**"
   ]
  },
  {
   "cell_type": "markdown",
   "metadata": {},
   "source": [
    "**tf.Session.run(fetches, feed_dict=None, options=None, run_metadata=None)**  \n",
    "**fetches is a list of tensors whose values you want**  "
   ]
  },
  {
   "cell_type": "code",
   "execution_count": 33,
   "metadata": {},
   "outputs": [
    {
     "name": "stdout",
     "output_type": "stream",
     "text": [
      "8\n"
     ]
    }
   ],
   "source": [
    "sess = tf.Session()\n",
    "print(sess.run(a))\n",
    "sess.close()"
   ]
  },
  {
   "cell_type": "code",
   "execution_count": 5,
   "metadata": {},
   "outputs": [
    {
     "name": "stdout",
     "output_type": "stream",
     "text": [
      "8\n"
     ]
    }
   ],
   "source": [
    "with tf.Session() as sess:\n",
    "    print(sess.run(a))"
   ]
  },
  {
   "cell_type": "markdown",
   "metadata": {},
   "source": [
    " **Note: A Session object encapsulates the environment in which Operation objects are executed, and Tensor objects are evaluated.**\n",
    " \n",
    " **Note: Session will also allocate memory to store the current values of variables.**"
   ]
  },
  {
   "cell_type": "markdown",
   "metadata": {},
   "source": [
    "## Basic Math Operations\n",
    "\n",
    "tf.add_n, tf.abs, tf.negative, tf.sign, tf.reciprocal, tf.square, tf.round, tf.sqrt"
   ]
  },
  {
   "cell_type": "code",
   "execution_count": 34,
   "metadata": {},
   "outputs": [
    {
     "name": "stdout",
     "output_type": "stream",
     "text": [
      "Tensor(\"Abs:0\", shape=(), dtype=int32)\n"
     ]
    }
   ],
   "source": [
    "a = tf.abs(-5)\n",
    "print(a)"
   ]
  },
  {
   "cell_type": "code",
   "execution_count": 35,
   "metadata": {},
   "outputs": [
    {
     "name": "stdout",
     "output_type": "stream",
     "text": [
      "5\n"
     ]
    }
   ],
   "source": [
    "with tf.Session() as sess:\n",
    "    print(sess.run(a))"
   ]
  },
  {
   "cell_type": "markdown",
   "metadata": {},
   "source": [
    "## More Graphs"
   ]
  },
  {
   "cell_type": "code",
   "execution_count": 6,
   "metadata": {},
   "outputs": [],
   "source": [
    "x=2\n",
    "y= 3\n",
    "op1 = tf.add(x, y)\n",
    "op2 = tf.multiply(x, y)  # Note that tf.mul() was removed from TensorFlow\n",
    "op3 = tf.pow(op2, op1) \n",
    "with tf.Session() as sess:\n",
    "     op3 = sess.run(op3)"
   ]
  },
  {
   "cell_type": "markdown",
   "metadata": {},
   "source": [
    "**Because we only want the value of pow_op and pow_op doesn’t depend on useless in the following code, session won’t compute value of useless**"
   ]
  },
  {
   "cell_type": "code",
   "execution_count": 7,
   "metadata": {},
   "outputs": [],
   "source": [
    "x= 2\n",
    "y= 3\n",
    "add_op = tf.add(x, y)\n",
    "mul_op = tf.multiply(x, y)\n",
    "useless = tf.multiply(x, add_op) \n",
    "pow_op = tf.pow(add_op, mul_op) \n",
    "with tf.Session() as sess:\n",
    "     z = sess.run(pow_op)"
   ]
  },
  {
   "cell_type": "markdown",
   "metadata": {},
   "source": [
    "## Subgraphs \n",
    "Possible to break graphs into several chunks and run them parallelly across multiple CPUs, GPUs, or devices"
   ]
  },
  {
   "cell_type": "code",
   "execution_count": 8,
   "metadata": {},
   "outputs": [],
   "source": [
    "# # To put part of a graph on a specific CPU or GPU:\n",
    "# # Creates a graph.\n",
    "# with tf.device('/gpu:2'):\n",
    "#   a = tf.constant([1.0, 2.0, 3.0, 4.0, 5.0, 6.0], name='a')\n",
    "#   b = tf.constant([1.0, 2.0, 3.0, 4.0, 5.0, 6.0], name='b')\n",
    "#   c = tf.matmul(a, b)\n",
    "# # Creates a session with log_device_placement set to True.\n",
    "# sess = tf.Session(config=tf.ConfigProto(log_device_placement=True))\n",
    "#  # Runs the op.\n",
    "# print(sess.run(c))"
   ]
  },
  {
   "cell_type": "markdown",
   "metadata": {},
   "source": [
    "## Multipe \n",
    "* Multiple graphs require multiple sessions, each will try to use all available resources by default\n",
    "* Can't pass data between them without passing them through python/numpy, which doesn't work in distributed\n",
    "* It’s better to have disconnected subgraphs within one graph"
   ]
  },
  {
   "cell_type": "code",
   "execution_count": 9,
   "metadata": {},
   "outputs": [],
   "source": [
    "# create a graph:\n",
    "g = tf.Graph()"
   ]
  },
  {
   "cell_type": "code",
   "execution_count": 19,
   "metadata": {},
   "outputs": [
    {
     "name": "stdout",
     "output_type": "stream",
     "text": [
      "8\n"
     ]
    }
   ],
   "source": [
    "# to add operators to a graph, set it as default:\n",
    "g = tf.Graph()\n",
    "with g.as_default():\n",
    "     x = tf.add(3, 5)\n",
    "with tf.Session(graph=g) as sess:\n",
    "     print(sess.run(x))"
   ]
  },
  {
   "cell_type": "code",
   "execution_count": 18,
   "metadata": {},
   "outputs": [
    {
     "name": "stdout",
     "output_type": "stream",
     "text": [
      "8\n"
     ]
    }
   ],
   "source": [
    "# to add operators to a graph, set it as default:\n",
    "g = tf.Graph()\n",
    "with g.as_default():\n",
    "    a=3\n",
    "    b= 5\n",
    "    x = tf.add(a, b)\n",
    "sess = tf.Session(graph=g) # session is run on the graph g\n",
    "print(sess.run(x))\n",
    "sess.close()"
   ]
  },
  {
   "cell_type": "code",
   "execution_count": 21,
   "metadata": {},
   "outputs": [],
   "source": [
    "# To handle the default graph:\n",
    "g = tf.get_default_graph()"
   ]
  },
  {
   "cell_type": "code",
   "execution_count": 22,
   "metadata": {},
   "outputs": [],
   "source": [
    "# Do not mix default graph and user created graphs\n",
    "g = tf.Graph()\n",
    "# add ops to the default graph\n",
    "a = tf.constant(3)\n",
    "# add ops to the user created graph\n",
    "with g.as_default():\n",
    "     b = tf.constant(5)"
   ]
  },
  {
   "cell_type": "code",
   "execution_count": 24,
   "metadata": {},
   "outputs": [],
   "source": [
    "# Do not mix default graph and user created graphs\n",
    "g1 = tf.get_default_graph()\n",
    "g2 = tf.Graph()\n",
    "# add ops to the default graph\n",
    "with g1.as_default():\n",
    "     a = tf.constant(3)\n",
    "# add ops to the user created graph\n",
    "with g2.as_default():\n",
    "     b = tf.constant(5)"
   ]
  },
  {
   "cell_type": "markdown",
   "metadata": {},
   "source": [
    "## Why graphs\n",
    "1. Save computation (only run subgraphs that lead to the values you want to fetch)\n",
    "2. Break computation into small, differential pieces to facilitates auto-differentiation\n",
    "3. Facilitate distributed computation, spread the work across multiple CPUs, GPUs, or devices\n",
    "4. Many common machine learning models are commonly taught and visualized as directed graphs already\n",
    " "
   ]
  },
  {
   "cell_type": "markdown",
   "metadata": {},
   "source": [
    "## Next class\n",
    "* Basic operations\n",
    "* Constants and variables\n",
    "* Feeding inputs\n",
    "* Fun with TensorBoard \n",
    "* Feedback: huyenn@stanford.edu \n",
    "\n",
    "Thanks!\n",
    " "
   ]
  }
 ],
 "metadata": {
  "kernelspec": {
   "display_name": "Python 3",
   "language": "python",
   "name": "python3"
  },
  "language_info": {
   "codemirror_mode": {
    "name": "ipython",
    "version": 3
   },
   "file_extension": ".py",
   "mimetype": "text/x-python",
   "name": "python",
   "nbconvert_exporter": "python",
   "pygments_lexer": "ipython3",
   "version": "3.6.7"
  }
 },
 "nbformat": 4,
 "nbformat_minor": 2
}
