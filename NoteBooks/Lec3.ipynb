{
 "cells": [
  {
   "cell_type": "markdown",
   "metadata": {},
   "source": [
    "# Useful Operations in TensorFlow\n",
    "\n",
    "Adapted from [A Sweeping Tour of TensorFlow](http://www.goldsborough.me/tensorflow/ml/ai/python/2017/06/28/20-21-45-a_sweeping_tour_of_tensorflow/)\n",
    "by Peter Goldsborough"
   ]
  },
  {
   "cell_type": "code",
   "execution_count": 21,
   "metadata": {},
   "outputs": [],
   "source": [
    "import os\n",
    "os.environ['TF_CPP_MIN_LOG_LEVEL']='2' # No more warning\n",
    "import tensorflow as tf"
   ]
  },
  {
   "cell_type": "markdown",
   "metadata": {},
   "source": [
    "## If-Statements  \n",
    "\n",
    "**tf.cond(\n",
    "    pred,\n",
    "    true_fn=None,\n",
    "    false_fn=None,\n",
    "    strict=False,\n",
    "    name=None,\n",
    ")**\n",
    "\n",
    "The following document was adapted from  [TF documentation](https://www.tensorflow.org/api_docs/python/tf/cond) of this operator. "
   ]
  },
  {
   "cell_type": "markdown",
   "metadata": {},
   "source": [
    "This operation returns true_fn() if the predicate pred is true else false_fn(). "
   ]
  },
  {
   "cell_type": "code",
   "execution_count": 2,
   "metadata": {},
   "outputs": [
    {
     "name": "stdout",
     "output_type": "stream",
     "text": [
      "WARNING:tensorflow:From /Users/hhaji/anaconda3/lib/python3.6/site-packages/tensorflow/python/ops/control_flow_ops.py:423: colocate_with (from tensorflow.python.framework.ops) is deprecated and will be removed in a future version.\n",
      "Instructions for updating:\n",
      "Colocations handled automatically by placer.\n"
     ]
    }
   ],
   "source": [
    "x = tf.constant(3)\n",
    "y = tf.constant(4)\n",
    "z = tf.multiply(x, y)\n",
    "result = tf.cond(x < y, lambda: tf.add(x, z), lambda: tf.square(y))"
   ]
  },
  {
   "cell_type": "code",
   "execution_count": 3,
   "metadata": {},
   "outputs": [
    {
     "name": "stdout",
     "output_type": "stream",
     "text": [
      "49\n",
      "70\n"
     ]
    }
   ],
   "source": [
    "with tf.Session() as session:\n",
    "    print(session.run(result, feed_dict={x: 9, y:7}))\n",
    "    print(session.run(result, feed_dict={x: 7, y:9}))"
   ]
  },
  {
   "cell_type": "code",
   "execution_count": 4,
   "metadata": {},
   "outputs": [],
   "source": [
    "def f1(): \n",
    "    return tf.multiply(x, 17)\n",
    "def f2(): \n",
    "    return tf.add(y, 23)\n",
    "result = tf.cond(tf.less(x, y), f1, f2)"
   ]
  },
  {
   "cell_type": "code",
   "execution_count": 5,
   "metadata": {},
   "outputs": [
    {
     "name": "stdout",
     "output_type": "stream",
     "text": [
      "30\n",
      "119\n"
     ]
    }
   ],
   "source": [
    "with tf.Session() as session:\n",
    "    print(session.run(result, feed_dict={x: 9, y:7}))\n",
    "    print(session.run(result, feed_dict={x: 7, y:9}))"
   ]
  },
  {
   "cell_type": "code",
   "execution_count": 6,
   "metadata": {},
   "outputs": [
    {
     "name": "stdout",
     "output_type": "stream",
     "text": [
      "[1 2 3]\n",
      "[4 5 6]\n"
     ]
    }
   ],
   "source": [
    "a = tf.constant([1, 2, 3])\n",
    "b = tf.constant([4, 5, 6])\n",
    "x = tf.placeholder(shape=[], dtype=tf.bool)\n",
    "\n",
    "c = tf.cond(x, lambda: a, lambda: b)\n",
    "\n",
    "with tf.Session() as session:\n",
    "    print(session.run(c, feed_dict={x: True}))\n",
    "    print(session.run(c, feed_dict={x: False}))"
   ]
  },
  {
   "cell_type": "markdown",
   "metadata": {},
   "source": [
    "## While Loops \n",
    "**tf.while_loop(\n",
    "    cond,\n",
    "    body,\n",
    "    loop_vars,\n",
    "    shape_invariants=None,\n",
    "    parallel_iterations=10,\n",
    "    back_prop=True,\n",
    "    swap_memory=False,\n",
    "    name=None,\n",
    "    maximum_iterations=None,\n",
    "    return_same_structure=False\n",
    ")**  "
   ]
  },
  {
   "cell_type": "markdown",
   "metadata": {},
   "source": [
    "The following document was adapted from  [TF documentation](https://www.tensorflow.org/api_docs/python/tf/while_loop) of this operator. \n",
    "\n",
    "**tf.while_loop repeat body while the condition cond is true.** cond is a **callable** returning a boolean scalar tensor. body is a **callable** returning a (possibly nested) tuple, namedtuple or list of tensors of the same arity (length and structure) and types as loop_vars. loop_vars is a (possibly nested) tuple, namedtuple or list of tensors that is passed to both cond and body. cond and body both take as many arguments as there are loop_vars.  \n",
    "\n",
    "**Returns:**  \n",
    "\n",
    "The output tensors for the loop variables after the loop. If return_same_structure is True, the return value has the same structure as loop_vars. If return_same_structure is False, the return value is a Tensor, TensorArray or IndexedSlice if the length of loop_vars is 1, or a list otherwise."
   ]
  },
  {
   "cell_type": "code",
   "execution_count": 7,
   "metadata": {},
   "outputs": [
    {
     "name": "stdout",
     "output_type": "stream",
     "text": [
      "16\n"
     ]
    }
   ],
   "source": [
    "i = tf.constant(1)\n",
    "cond = lambda i: tf.less(i, 10)\n",
    "body = lambda i: tf.multiply(i, 2)\n",
    "r = tf.while_loop(cond, body, [i])\n",
    "with tf.Session():\n",
    "    print(r.eval())"
   ]
  },
  {
   "cell_type": "code",
   "execution_count": 8,
   "metadata": {},
   "outputs": [
    {
     "name": "stdout",
     "output_type": "stream",
     "text": [
      "21\n"
     ]
    }
   ],
   "source": [
    "i = tf.constant(1)\n",
    "var_new = tf.while_loop(lambda i: i < 20, lambda i: i + 2, [i])\n",
    "with tf.Session():\n",
    "    print(var_new.eval())"
   ]
  },
  {
   "cell_type": "code",
   "execution_count": 9,
   "metadata": {},
   "outputs": [
    {
     "name": "stdout",
     "output_type": "stream",
     "text": [
      "[10, array([[1, 2],\n",
      "       [3, 4],\n",
      "       [1, 2],\n",
      "       ...,\n",
      "       [3, 4],\n",
      "       [1, 2],\n",
      "       [3, 4]], dtype=int32)]\n"
     ]
    }
   ],
   "source": [
    "i0 = tf.constant(0)\n",
    "m0 = tf.constant([[1,2], [3,4]])\n",
    "cond = lambda i, m: i < 10\n",
    "body = lambda i, m: [i+1, tf.concat([m, m], axis=0)]\n",
    "matrix =tf.while_loop(cond, body, loop_vars=[i0, m0],\n",
    "    shape_invariants=[i0.get_shape(), tf.TensorShape([None, 2])])\n",
    "with tf.Session() as sess:\n",
    "    print(sess.run(matrix))"
   ]
  },
  {
   "cell_type": "markdown",
   "metadata": {},
   "source": [
    "## Convert a Function of Python to TensorFlow Operation (tf.py_func)\n",
    "\n",
    "**tf.py_func(\n",
    "    func,\n",
    "    inp,\n",
    "    Tout,\n",
    "    stateful=True,\n",
    "    name=None\n",
    ")**"
   ]
  },
  {
   "cell_type": "markdown",
   "metadata": {},
   "source": [
    "tf.py_func wraps a python function and uses it as a TensorFlow op. The following document was adapted from  [TF documentation](https://docs.w3cub.com/tensorflow~python/tf/py_func/) of this operator. **Note that the tf.py_func operation will only run on CPU.** "
   ]
  },
  {
   "cell_type": "markdown",
   "metadata": {},
   "source": [
    "Given a python function func, which takes numpy arrays as its arguments and returns numpy arrays as its outputs, wrap this function as an operation in a TensorFlow graph. The following snippet constructs a simple TensorFlow graph that invokes the np.sinh() NumPy function as a operation in the graph:"
   ]
  },
  {
   "cell_type": "code",
   "execution_count": 10,
   "metadata": {},
   "outputs": [],
   "source": [
    "def my_func1(x):\n",
    "  return 2**x\n",
    "input_1 = tf.placeholder(tf.int64)\n",
    "op_1= tf.py_function(my_func1, [input_1], tf.int64)"
   ]
  },
  {
   "cell_type": "code",
   "execution_count": 11,
   "metadata": {},
   "outputs": [
    {
     "name": "stdout",
     "output_type": "stream",
     "text": [
      "32\n"
     ]
    }
   ],
   "source": [
    "with tf.Session() as sess:\n",
    "    print(sess.run(op_1, feed_dict={input_1:5}))"
   ]
  },
  {
   "cell_type": "code",
   "execution_count": 12,
   "metadata": {},
   "outputs": [
    {
     "name": "stdout",
     "output_type": "stream",
     "text": [
      "WARNING:tensorflow:From <ipython-input-12-0a0bb1353a74>:5: py_func (from tensorflow.python.ops.script_ops) is deprecated and will be removed in a future version.\n",
      "Instructions for updating:\n",
      "tf.py_func is deprecated in TF V2. Instead, use\n",
      "    tf.py_function, which takes a python function which manipulates tf eager\n",
      "    tensors instead of numpy arrays. It's easy to convert a tf eager tensor to\n",
      "    an ndarray (just call tensor.numpy()) but having access to eager tensors\n",
      "    means `tf.py_function`s can use accelerators such as GPUs as well as\n",
      "    being differentiable using a gradient tape.\n",
      "    \n"
     ]
    }
   ],
   "source": [
    "def my_func2(x):\n",
    "  # x will be a numpy array with the contents of the placeholder below\n",
    "  return np.sinh(x)\n",
    "input= tf.placeholder(tf.float32)\n",
    "op_2= tf.py_func(my_func2, [input], tf.float32)"
   ]
  },
  {
   "cell_type": "code",
   "execution_count": 13,
   "metadata": {},
   "outputs": [
    {
     "name": "stdout",
     "output_type": "stream",
     "text": [
      "8.2581813e+37\n"
     ]
    }
   ],
   "source": [
    "import numpy as np\n",
    "with tf.Session() as sess:\n",
    "    print(sess.run(op_2, feed_dict={input:88}))"
   ]
  },
  {
   "cell_type": "markdown",
   "metadata": {},
   "source": [
    "## Variable Scopes"
   ]
  },
  {
   "cell_type": "markdown",
   "metadata": {},
   "source": [
    "Variable scopes allow you to control variable reuse when calling functions which implicitly create and use variables. They also allow you to name your variables in a hierarchical and understandable way. The following document was adapted from  [TF documentation](https://www.tensorflow.org/api_docs/python/tf/variable_scope) of this operator.\n",
    "\n",
    "Simple example of how to create a new variable:"
   ]
  },
  {
   "cell_type": "code",
   "execution_count": 14,
   "metadata": {},
   "outputs": [],
   "source": [
    "with tf.variable_scope(\"big\"):\n",
    "    with tf.variable_scope(\"bar\"):\n",
    "        v = tf.get_variable(\"v\", [1])\n",
    "        assert v.name == \"big/bar/v:0\""
   ]
  },
  {
   "cell_type": "code",
   "execution_count": 15,
   "metadata": {},
   "outputs": [
    {
     "data": {
      "text/plain": [
       "<tf.Variable 'big/bar/v:0' shape=(1,) dtype=float32_ref>"
      ]
     },
     "execution_count": 15,
     "metadata": {},
     "output_type": "execute_result"
    }
   ],
   "source": [
    "v"
   ]
  },
  {
   "cell_type": "markdown",
   "metadata": {},
   "source": [
    "**Basic example of sharing a variable AUTO_REUSE:**  "
   ]
  },
  {
   "cell_type": "code",
   "execution_count": 16,
   "metadata": {},
   "outputs": [],
   "source": [
    "# AUTO_REUSE: we create variables if they do not exist, and return them otherwise; if None, we inherit \n",
    "# the parent scope's reuse flag.\n",
    "def make_var():\n",
    "    with tf.variable_scope(\"make_var\", reuse=tf.AUTO_REUSE):\n",
    "        v = tf.get_variable(\"new_v\", dtype=tf.int32, initializer=tf.constant([1,2]))\n",
    "    return v\n",
    "\n",
    "v1=make_var()  # Creates v\n",
    "v2=make_var()  # Gets the same, existing v\n",
    "assert v1 == v2"
   ]
  },
  {
   "cell_type": "code",
   "execution_count": 17,
   "metadata": {},
   "outputs": [
    {
     "name": "stdout",
     "output_type": "stream",
     "text": [
      "[1 2]\n",
      "[1 2]\n"
     ]
    }
   ],
   "source": [
    "with tf.Session() as sess:\n",
    "    sess.run(tf.global_variables_initializer())\n",
    "    print(sess.run(v1))\n",
    "    print(sess.run(v2))"
   ]
  },
  {
   "cell_type": "markdown",
   "metadata": {},
   "source": [
    "Basic example of sharing a variable with reuse=True:"
   ]
  },
  {
   "cell_type": "code",
   "execution_count": 18,
   "metadata": {},
   "outputs": [],
   "source": [
    "with tf.variable_scope(\"foo\"):\n",
    "    v = tf.get_variable(\"my_vec\", [1])\n",
    "with tf.variable_scope(\"foo\", reuse=True):\n",
    "    v1 = tf.get_variable(\"my_vec\", [1])\n",
    "assert v1 == v"
   ]
  },
  {
   "cell_type": "markdown",
   "metadata": {},
   "source": [
    "To prevent accidental sharing of variables, we raise an exception when getting an existing variable in a non-reusing scope."
   ]
  },
  {
   "cell_type": "code",
   "execution_count": 19,
   "metadata": {},
   "outputs": [],
   "source": [
    "# #  Raises ValueError(\"... v already exists ...\").\n",
    "# with tf.variable_scope(\"foo\"):\n",
    "#     v = tf.get_variable(\"v\", [1])\n",
    "#     v1= tf.get_variable(\"v\", [1])"
   ]
  },
  {
   "cell_type": "markdown",
   "metadata": {},
   "source": [
    "Similarly, we raise an exception when trying to get a variable that does not exist in reuse mode."
   ]
  },
  {
   "cell_type": "code",
   "execution_count": 20,
   "metadata": {},
   "outputs": [],
   "source": [
    "# #  Raises ValueError(\"... v does not exists ...\").\n",
    "# with tf.variable_scope(\"foo\", reuse=True):\n",
    "#     v = tf.get_variable(\"new_variable\", [1])"
   ]
  }
 ],
 "metadata": {
  "kernelspec": {
   "display_name": "Python 3",
   "language": "python",
   "name": "python3"
  },
  "language_info": {
   "codemirror_mode": {
    "name": "ipython",
    "version": 3
   },
   "file_extension": ".py",
   "mimetype": "text/x-python",
   "name": "python",
   "nbconvert_exporter": "python",
   "pygments_lexer": "ipython3",
   "version": "3.6.8"
  }
 },
 "nbformat": 4,
 "nbformat_minor": 2
}
